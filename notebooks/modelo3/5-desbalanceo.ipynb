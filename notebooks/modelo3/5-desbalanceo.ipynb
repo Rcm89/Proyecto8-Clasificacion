{
 "cells": [
  {
   "cell_type": "code",
   "execution_count": 29,
   "metadata": {},
   "outputs": [
    {
     "name": "stdout",
     "output_type": "stream",
     "text": [
      "The autoreload extension is already loaded. To reload it, use:\n",
      "  %reload_ext autoreload\n"
     ]
    }
   ],
   "source": [
    "# Para no tener que reiniciar el kernel\n",
    "%load_ext autoreload\n",
    "%autoreload 2\n",
    "\n",
    "# Tratamiento de datos\n",
    "# -----------------------------------------------------------------------\n",
    "import numpy as np\n",
    "import pandas as pd\n",
    "import pickle\n",
    "\n",
    "# Otros objetivos\n",
    "# -----------------------------------------------------------------------\n",
    "import math\n",
    "\n",
    "# Gráficos\n",
    "# -----------------------------------------------------------------------\n",
    "import seaborn as sns\n",
    "import matplotlib.pyplot as plt\n",
    "\n",
    "from itertools import product, combinations\n",
    "from sklearn.preprocessing import MinMaxScaler, Normalizer, StandardScaler, RobustScaler\n",
    "from sklearn.neighbors import LocalOutlierFactor # para detectar outliers usando el método LOF\n",
    "from sklearn.ensemble import IsolationForest # para detectar outliers usando el metodo IF\n",
    "\n",
    "# Para imputar nulos\n",
    "# -------------------------------------------------------------------------\n",
    "from sklearn.experimental import enable_iterative_imputer  # Habilita IterativeImputer\n",
    "from sklearn.impute import IterativeImputer\n",
    "from sklearn.impute import KNNImputer\n",
    "\n",
    "# Para tratar el problema de desbalance\n",
    "# -----------------------------------------------------------------------\n",
    "from imblearn.over_sampling import RandomOverSampler, SMOTE\n",
    "from imblearn.under_sampling import RandomUnderSampler\n",
    "from imblearn.combine import SMOTETomek\n",
    "from imblearn.over_sampling import SMOTENC\n",
    "from sklearn.model_selection import train_test_split\n",
    "\n",
    "\n",
    "from sklearn.preprocessing import OneHotEncoder, OrdinalEncoder, LabelEncoder #, TargetEncoder # para poder aplicar los métodos de OneHot, Ordinal,  Label y Target Encoder \n",
    "\n",
    "from category_encoders import TargetEncoder "
   ]
  },
  {
   "cell_type": "code",
   "execution_count": 30,
   "metadata": {},
   "outputs": [],
   "source": [
    "import warnings\n",
    "warnings.filterwarnings(\"ignore\")"
   ]
  },
  {
   "cell_type": "code",
   "execution_count": 31,
   "metadata": {},
   "outputs": [],
   "source": [
    "import sys\n",
    "sys.path.append(\"../../\")"
   ]
  },
  {
   "cell_type": "code",
   "execution_count": 32,
   "metadata": {},
   "outputs": [],
   "source": [
    "# Insertamos los soportes de nuestro src\n",
    "from src import soporte_preprocesamiento as sp\n",
    "from src import soporte_encoding as se\n",
    "from src import soporte_logistica_preprocesamiento as slp\n",
    "\n",
    "\n"
   ]
  },
  {
   "cell_type": "code",
   "execution_count": 33,
   "metadata": {},
   "outputs": [],
   "source": [
    "# Instrucción para visualizar todas las columnas de un dataFrame\n",
    "pd.set_option('display.max_columns', None)"
   ]
  },
  {
   "cell_type": "code",
   "execution_count": 34,
   "metadata": {},
   "outputs": [],
   "source": [
    "df=pd.read_pickle(\"../../datos/modelo3/datos_preprocesados.pkl\").reset_index(drop=True)\n"
   ]
  },
  {
   "cell_type": "code",
   "execution_count": 35,
   "metadata": {},
   "outputs": [
    {
     "data": {
      "text/html": [
       "<div>\n",
       "<style scoped>\n",
       "    .dataframe tbody tr th:only-of-type {\n",
       "        vertical-align: middle;\n",
       "    }\n",
       "\n",
       "    .dataframe tbody tr th {\n",
       "        vertical-align: top;\n",
       "    }\n",
       "\n",
       "    .dataframe thead th {\n",
       "        text-align: right;\n",
       "    }\n",
       "</style>\n",
       "<table border=\"1\" class=\"dataframe\">\n",
       "  <thead>\n",
       "    <tr style=\"text-align: right;\">\n",
       "      <th></th>\n",
       "      <th>Attrition</th>\n",
       "      <th>EnvironmentSatisfaction</th>\n",
       "      <th>JobSatisfaction</th>\n",
       "      <th>WorkLifeBalance</th>\n",
       "      <th>Age</th>\n",
       "      <th>BusinessTravel</th>\n",
       "      <th>Department</th>\n",
       "      <th>DistanceFromHome</th>\n",
       "      <th>EducationField</th>\n",
       "      <th>JobRole</th>\n",
       "      <th>MaritalStatus</th>\n",
       "      <th>MonthlyIncome</th>\n",
       "      <th>NumCompaniesWorked</th>\n",
       "      <th>PercentSalaryHike</th>\n",
       "      <th>TotalWorkingYears</th>\n",
       "      <th>TrainingTimesLastYear</th>\n",
       "      <th>YearsAtCompany</th>\n",
       "      <th>YearsSinceLastPromotion</th>\n",
       "      <th>JobInvolvement</th>\n",
       "      <th>Gender_Female</th>\n",
       "      <th>Gender_Male</th>\n",
       "      <th>Education_1.0</th>\n",
       "      <th>Education_2.0</th>\n",
       "      <th>Education_3.0</th>\n",
       "      <th>Education_4.0</th>\n",
       "      <th>Education_5.0</th>\n",
       "      <th>JobLevel_Head</th>\n",
       "      <th>JobLevel_Intern</th>\n",
       "      <th>JobLevel_Junior</th>\n",
       "      <th>JobLevel_Manager</th>\n",
       "      <th>JobLevel_Senior</th>\n",
       "      <th>StockOptionLevel_Bad</th>\n",
       "      <th>StockOptionLevel_Best</th>\n",
       "      <th>StockOptionLevel_Better</th>\n",
       "      <th>StockOptionLevel_Good</th>\n",
       "    </tr>\n",
       "  </thead>\n",
       "  <tbody>\n",
       "    <tr>\n",
       "      <th>0</th>\n",
       "      <td>0.0</td>\n",
       "      <td>0.0</td>\n",
       "      <td>-0.943914735491662</td>\n",
       "      <td>1.0</td>\n",
       "      <td>1.153846</td>\n",
       "      <td>0.0</td>\n",
       "      <td>-1.0</td>\n",
       "      <td>-0.083333</td>\n",
       "      <td>0.0</td>\n",
       "      <td>-0.9450964102808177</td>\n",
       "      <td>0.0</td>\n",
       "      <td>1.498997</td>\n",
       "      <td>-0.333333</td>\n",
       "      <td>-0.500000</td>\n",
       "      <td>-1.000000</td>\n",
       "      <td>-4.070248456129543</td>\n",
       "      <td>-0.666667</td>\n",
       "      <td>-0.333333</td>\n",
       "      <td>0.0</td>\n",
       "      <td>1.0</td>\n",
       "      <td>-1.0</td>\n",
       "      <td>0.0</td>\n",
       "      <td>1.0</td>\n",
       "      <td>0.0</td>\n",
       "      <td>0.0</td>\n",
       "      <td>0.0</td>\n",
       "      <td>0.0</td>\n",
       "      <td>1.0</td>\n",
       "      <td>0.0</td>\n",
       "      <td>0.0</td>\n",
       "      <td>0.0</td>\n",
       "      <td>1.0</td>\n",
       "      <td>0.0</td>\n",
       "      <td>0.0</td>\n",
       "      <td>0.0</td>\n",
       "    </tr>\n",
       "    <tr>\n",
       "      <th>1</th>\n",
       "      <td>1.0</td>\n",
       "      <td>0.0</td>\n",
       "      <td>0.056085264508337944</td>\n",
       "      <td>1.272172521742468</td>\n",
       "      <td>-0.384615</td>\n",
       "      <td>0.11333267018127957</td>\n",
       "      <td>0.0</td>\n",
       "      <td>0.250000</td>\n",
       "      <td>0.0</td>\n",
       "      <td>0.45135028949859385</td>\n",
       "      <td>1.0</td>\n",
       "      <td>-0.129721</td>\n",
       "      <td>-0.666667</td>\n",
       "      <td>1.500000</td>\n",
       "      <td>-0.444444</td>\n",
       "      <td>0.0</td>\n",
       "      <td>0.000000</td>\n",
       "      <td>0.000000</td>\n",
       "      <td>1.0</td>\n",
       "      <td>1.0</td>\n",
       "      <td>-1.0</td>\n",
       "      <td>1.0</td>\n",
       "      <td>0.0</td>\n",
       "      <td>0.0</td>\n",
       "      <td>0.0</td>\n",
       "      <td>0.0</td>\n",
       "      <td>0.0</td>\n",
       "      <td>1.0</td>\n",
       "      <td>0.0</td>\n",
       "      <td>0.0</td>\n",
       "      <td>0.0</td>\n",
       "      <td>0.0</td>\n",
       "      <td>0.0</td>\n",
       "      <td>0.0</td>\n",
       "      <td>1.0</td>\n",
       "    </tr>\n",
       "    <tr>\n",
       "      <th>2</th>\n",
       "      <td>0.0</td>\n",
       "      <td>0.505837150879456</td>\n",
       "      <td>0.056085264508337944</td>\n",
       "      <td>5.867264232325414</td>\n",
       "      <td>-0.307692</td>\n",
       "      <td>0.11333267018127957</td>\n",
       "      <td>0.0</td>\n",
       "      <td>0.833333</td>\n",
       "      <td>-5.396956951550586</td>\n",
       "      <td>0.05490358971918225</td>\n",
       "      <td>0.0</td>\n",
       "      <td>2.632366</td>\n",
       "      <td>-0.333333</td>\n",
       "      <td>0.166667</td>\n",
       "      <td>-0.555556</td>\n",
       "      <td>0.08734613190924799</td>\n",
       "      <td>0.000000</td>\n",
       "      <td>-0.333333</td>\n",
       "      <td>0.0</td>\n",
       "      <td>0.0</td>\n",
       "      <td>0.0</td>\n",
       "      <td>0.0</td>\n",
       "      <td>0.0</td>\n",
       "      <td>0.0</td>\n",
       "      <td>1.0</td>\n",
       "      <td>0.0</td>\n",
       "      <td>0.0</td>\n",
       "      <td>0.0</td>\n",
       "      <td>0.0</td>\n",
       "      <td>1.0</td>\n",
       "      <td>0.0</td>\n",
       "      <td>0.0</td>\n",
       "      <td>1.0</td>\n",
       "      <td>0.0</td>\n",
       "      <td>0.0</td>\n",
       "    </tr>\n",
       "    <tr>\n",
       "      <th>3</th>\n",
       "      <td>0.0</td>\n",
       "      <td>-0.4941628491205439</td>\n",
       "      <td>-0.943914735491662</td>\n",
       "      <td>0.0</td>\n",
       "      <td>0.153846</td>\n",
       "      <td>-0.07045481309786648</td>\n",
       "      <td>0.0</td>\n",
       "      <td>-0.416667</td>\n",
       "      <td>0.0</td>\n",
       "      <td>-1.5957948681964722</td>\n",
       "      <td>0.0</td>\n",
       "      <td>0.624156</td>\n",
       "      <td>0.333333</td>\n",
       "      <td>-0.500000</td>\n",
       "      <td>0.333333</td>\n",
       "      <td>-1.4433044545988933</td>\n",
       "      <td>0.500000</td>\n",
       "      <td>2.000000</td>\n",
       "      <td>1.0</td>\n",
       "      <td>0.0</td>\n",
       "      <td>0.0</td>\n",
       "      <td>0.0</td>\n",
       "      <td>0.0</td>\n",
       "      <td>0.0</td>\n",
       "      <td>0.0</td>\n",
       "      <td>1.0</td>\n",
       "      <td>0.0</td>\n",
       "      <td>0.0</td>\n",
       "      <td>0.0</td>\n",
       "      <td>0.0</td>\n",
       "      <td>1.0</td>\n",
       "      <td>0.0</td>\n",
       "      <td>1.0</td>\n",
       "      <td>0.0</td>\n",
       "      <td>0.0</td>\n",
       "    </tr>\n",
       "    <tr>\n",
       "      <th>4</th>\n",
       "      <td>0.0</td>\n",
       "      <td>-0.4941628491205439</td>\n",
       "      <td>1.2512174887022243</td>\n",
       "      <td>0.0</td>\n",
       "      <td>-0.307692</td>\n",
       "      <td>0.0</td>\n",
       "      <td>0.0</td>\n",
       "      <td>0.250000</td>\n",
       "      <td>0.07620631831817355</td>\n",
       "      <td>0.05490358971918225</td>\n",
       "      <td>1.0</td>\n",
       "      <td>-0.466703</td>\n",
       "      <td>0.666667</td>\n",
       "      <td>-0.333333</td>\n",
       "      <td>-0.111111</td>\n",
       "      <td>0.08734613190924799</td>\n",
       "      <td>0.166667</td>\n",
       "      <td>-0.333333</td>\n",
       "      <td>0.0</td>\n",
       "      <td>0.0</td>\n",
       "      <td>0.0</td>\n",
       "      <td>1.0</td>\n",
       "      <td>0.0</td>\n",
       "      <td>0.0</td>\n",
       "      <td>0.0</td>\n",
       "      <td>0.0</td>\n",
       "      <td>0.0</td>\n",
       "      <td>1.0</td>\n",
       "      <td>0.0</td>\n",
       "      <td>0.0</td>\n",
       "      <td>0.0</td>\n",
       "      <td>0.0</td>\n",
       "      <td>0.0</td>\n",
       "      <td>1.0</td>\n",
       "      <td>0.0</td>\n",
       "    </tr>\n",
       "  </tbody>\n",
       "</table>\n",
       "</div>"
      ],
      "text/plain": [
       "   Attrition EnvironmentSatisfaction       JobSatisfaction    WorkLifeBalance  \\\n",
       "0        0.0                     0.0    -0.943914735491662                1.0   \n",
       "1        1.0                     0.0  0.056085264508337944  1.272172521742468   \n",
       "2        0.0       0.505837150879456  0.056085264508337944  5.867264232325414   \n",
       "3        0.0     -0.4941628491205439    -0.943914735491662                0.0   \n",
       "4        0.0     -0.4941628491205439    1.2512174887022243                0.0   \n",
       "\n",
       "        Age        BusinessTravel Department  DistanceFromHome  \\\n",
       "0  1.153846                   0.0       -1.0         -0.083333   \n",
       "1 -0.384615   0.11333267018127957        0.0          0.250000   \n",
       "2 -0.307692   0.11333267018127957        0.0          0.833333   \n",
       "3  0.153846  -0.07045481309786648        0.0         -0.416667   \n",
       "4 -0.307692                   0.0        0.0          0.250000   \n",
       "\n",
       "        EducationField              JobRole MaritalStatus  MonthlyIncome  \\\n",
       "0                  0.0  -0.9450964102808177           0.0       1.498997   \n",
       "1                  0.0  0.45135028949859385           1.0      -0.129721   \n",
       "2   -5.396956951550586  0.05490358971918225           0.0       2.632366   \n",
       "3                  0.0  -1.5957948681964722           0.0       0.624156   \n",
       "4  0.07620631831817355  0.05490358971918225           1.0      -0.466703   \n",
       "\n",
       "   NumCompaniesWorked  PercentSalaryHike  TotalWorkingYears  \\\n",
       "0           -0.333333          -0.500000          -1.000000   \n",
       "1           -0.666667           1.500000          -0.444444   \n",
       "2           -0.333333           0.166667          -0.555556   \n",
       "3            0.333333          -0.500000           0.333333   \n",
       "4            0.666667          -0.333333          -0.111111   \n",
       "\n",
       "  TrainingTimesLastYear  YearsAtCompany  YearsSinceLastPromotion  \\\n",
       "0    -4.070248456129543       -0.666667                -0.333333   \n",
       "1                   0.0        0.000000                 0.000000   \n",
       "2   0.08734613190924799        0.000000                -0.333333   \n",
       "3   -1.4433044545988933        0.500000                 2.000000   \n",
       "4   0.08734613190924799        0.166667                -0.333333   \n",
       "\n",
       "  JobInvolvement Gender_Female Gender_Male Education_1.0 Education_2.0  \\\n",
       "0            0.0           1.0        -1.0           0.0           1.0   \n",
       "1            1.0           1.0        -1.0           1.0           0.0   \n",
       "2            0.0           0.0         0.0           0.0           0.0   \n",
       "3            1.0           0.0         0.0           0.0           0.0   \n",
       "4            0.0           0.0         0.0           1.0           0.0   \n",
       "\n",
       "  Education_3.0 Education_4.0 Education_5.0 JobLevel_Head JobLevel_Intern  \\\n",
       "0           0.0           0.0           0.0           0.0             1.0   \n",
       "1           0.0           0.0           0.0           0.0             1.0   \n",
       "2           0.0           1.0           0.0           0.0             0.0   \n",
       "3           0.0           0.0           1.0           0.0             0.0   \n",
       "4           0.0           0.0           0.0           0.0             1.0   \n",
       "\n",
       "  JobLevel_Junior JobLevel_Manager JobLevel_Senior StockOptionLevel_Bad  \\\n",
       "0             0.0              0.0             0.0                  1.0   \n",
       "1             0.0              0.0             0.0                  0.0   \n",
       "2             0.0              1.0             0.0                  0.0   \n",
       "3             0.0              0.0             1.0                  0.0   \n",
       "4             0.0              0.0             0.0                  0.0   \n",
       "\n",
       "  StockOptionLevel_Best StockOptionLevel_Better StockOptionLevel_Good  \n",
       "0                   0.0                     0.0                   0.0  \n",
       "1                   0.0                     0.0                   1.0  \n",
       "2                   1.0                     0.0                   0.0  \n",
       "3                   1.0                     0.0                   0.0  \n",
       "4                   0.0                     1.0                   0.0  "
      ]
     },
     "execution_count": 35,
     "metadata": {},
     "output_type": "execute_result"
    }
   ],
   "source": [
    "df.head()"
   ]
  },
  {
   "cell_type": "markdown",
   "metadata": {},
   "source": [
    "En el EDA vimos que teníamos un gran desbalanceo en la variable objetivo \"Attrition\". Vamos en primer lugatr a visualizarlo claramente."
   ]
  },
  {
   "cell_type": "code",
   "execution_count": 36,
   "metadata": {},
   "outputs": [
    {
     "data": {
      "image/png": "[encoded data removed]",
      "text/plain": [
       "<Figure size 800x500 with 1 Axes>"
      ]
     },
     "metadata": {},
     "output_type": "display_data"
    }
   ],
   "source": [
    "desbalanceo = slp.Desbalanceo(dataframe = df, variable_dependiente = \"Attrition\")\n",
    "desbalanceo.visualizar_clase()"
   ]
  },
  {
   "cell_type": "code",
   "execution_count": 37,
   "metadata": {},
   "outputs": [
    {
     "data": {
      "text/plain": [
       "Attrition\n",
       "0.0    1321\n",
       "1.0     252\n",
       "Name: count, dtype: int64"
      ]
     },
     "execution_count": 37,
     "metadata": {},
     "output_type": "execute_result"
    }
   ],
   "source": [
    "df['Attrition'].value_counts()"
   ]
  },
  {
   "cell_type": "markdown",
   "metadata": {},
   "source": [
    "Vamos a aplicar el SMOTENC para solucionar el desbalanceo. Esto metodo hará upsumplig sobre la categoría minoritaria, la del \"Yes\", que pasada a numerica durante nuestro preprocesameinto es la que toma el valor 1.0"
   ]
  },
  {
   "cell_type": "markdown",
   "metadata": {},
   "source": [
    "Tenemos algunas variables de tipo object (las categórcias). Vamos a meterlas en una lista ya que debemos pasarselas al SMOTENC como parámetro"
   ]
  },
  {
   "cell_type": "code",
   "execution_count": 38,
   "metadata": {},
   "outputs": [],
   "source": [
    "df_cat=df.select_dtypes(\"O\")\n",
    "lista_categoricas=list(df_cat.columns)"
   ]
  },
  {
   "cell_type": "code",
   "execution_count": 39,
   "metadata": {},
   "outputs": [
    {
     "data": {
      "text/plain": [
       "['EnvironmentSatisfaction',\n",
       " 'JobSatisfaction',\n",
       " 'WorkLifeBalance',\n",
       " 'BusinessTravel',\n",
       " 'Department',\n",
       " 'EducationField',\n",
       " 'JobRole',\n",
       " 'MaritalStatus',\n",
       " 'TrainingTimesLastYear',\n",
       " 'JobInvolvement',\n",
       " 'Gender_Female',\n",
       " 'Gender_Male',\n",
       " 'Education_1.0',\n",
       " 'Education_2.0',\n",
       " 'Education_3.0',\n",
       " 'Education_4.0',\n",
       " 'Education_5.0',\n",
       " 'JobLevel_Head',\n",
       " 'JobLevel_Intern',\n",
       " 'JobLevel_Junior',\n",
       " 'JobLevel_Manager',\n",
       " 'JobLevel_Senior',\n",
       " 'StockOptionLevel_Bad',\n",
       " 'StockOptionLevel_Best',\n",
       " 'StockOptionLevel_Better',\n",
       " 'StockOptionLevel_Good']"
      ]
     },
     "execution_count": 39,
     "metadata": {},
     "output_type": "execute_result"
    }
   ],
   "source": [
    "lista_categoricas"
   ]
  },
  {
   "cell_type": "code",
   "execution_count": 40,
   "metadata": {},
   "outputs": [],
   "source": [
    "X = df.drop(columns = \"Attrition\")\n",
    "y = df[\"Attrition\"]\n",
    "smotenc = SMOTENC(categorical_features=lista_categoricas, random_state=42, k_neighbors=5)\n",
    "X_resampled, y_resampled = smotenc.fit_resample(X, y)\n",
    "df_resampled = pd.DataFrame(X_resampled, columns=X.columns)\n",
    "df_resampled['Attrition'] = y_resampled \n"
   ]
  },
  {
   "cell_type": "code",
   "execution_count": 41,
   "metadata": {},
   "outputs": [
    {
     "data": {
      "image/png": "[encoded data removed]",
      "text/plain": [
       "<Figure size 800x500 with 1 Axes>"
      ]
     },
     "metadata": {},
     "output_type": "display_data"
    }
   ],
   "source": [
    "desbalanceo = slp.Desbalanceo(dataframe = df_resampled, variable_dependiente = \"Attrition\")\n",
    "desbalanceo.visualizar_clase()"
   ]
  },
  {
   "cell_type": "markdown",
   "metadata": {},
   "source": [
    "Ya no hay desbalanceo en la Variable Objetivo."
   ]
  },
  {
   "cell_type": "code",
   "execution_count": 42,
   "metadata": {},
   "outputs": [],
   "source": [
    "df_resampled.to_pickle(\"../../datos/modelo3/datos_preprocesados_y_desbalanceados.pkl\")"
   ]
  }
 ],
 "metadata": {
  "kernelspec": {
   "display_name": "Python 3",
   "language": "python",
   "name": "python3"
  },
  "language_info": {
   "codemirror_mode": {
    "name": "ipython",
    "version": 3
   },
   "file_extension": ".py",
   "mimetype": "text/x-python",
   "name": "python",
   "nbconvert_exporter": "python",
   "pygments_lexer": "ipython3",
   "version": "3.12.6"
  }
 },
 "nbformat": 4,
 "nbformat_minor": 2
}
